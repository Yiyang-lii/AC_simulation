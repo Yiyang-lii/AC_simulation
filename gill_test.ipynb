{
 "cells": [
  {
   "cell_type": "code",
   "execution_count": 1,
   "metadata": {},
   "outputs": [],
   "source": [
    "import numpy as np"
   ]
  },
  {
   "cell_type": "code",
   "execution_count": 2,
   "metadata": {},
   "outputs": [
    {
     "name": "stdout",
     "output_type": "stream",
     "text": [
      "[  5. 225. 130.]\n",
      "[[ 2  1]\n",
      " [ 9 12]\n",
      " [11 -3]]\n"
     ]
    }
   ],
   "source": [
    "pos = np.array([[2, 1], [9, 12], [11, -3]])\n",
    "print(np.linalg.norm(pos,axis = 1)**2)\n",
    "print(pos)"
   ]
  },
  {
   "cell_type": "code",
   "execution_count": 4,
   "metadata": {},
   "outputs": [
    {
     "name": "stdout",
     "output_type": "stream",
     "text": [
      "[[ 2  1]\n",
      " [10 13]\n",
      " [12 -2]]\n",
      "[[ 2  1]\n",
      " [11 13]\n",
      " [13 -2]]\n"
     ]
    }
   ],
   "source": [
    "mask = pos[:,0] > 5\n",
    "print(pos)\n",
    "pos[mask,0] += 1\n",
    "print(pos)"
   ]
  },
  {
   "cell_type": "code",
   "execution_count": null,
   "metadata": {},
   "outputs": [],
   "source": []
  }
 ],
 "metadata": {
  "kernelspec": {
   "display_name": "comphys",
   "language": "python",
   "name": "python3"
  },
  "language_info": {
   "codemirror_mode": {
    "name": "ipython",
    "version": 3
   },
   "file_extension": ".py",
   "mimetype": "text/x-python",
   "name": "python",
   "nbconvert_exporter": "python",
   "pygments_lexer": "ipython3",
   "version": "3.10.9"
  }
 },
 "nbformat": 4,
 "nbformat_minor": 2
}
