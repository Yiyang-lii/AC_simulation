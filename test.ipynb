{
 "cells": [
  {
   "cell_type": "markdown",
   "metadata": {},
   "source": [
    "# 這裡可做為測試使用，請隨意修改"
   ]
  },
  {
   "cell_type": "code",
   "execution_count": 3,
   "metadata": {},
   "outputs": [],
   "source": [
    "from functions.Particles import Particles\n",
    "import scipy.constants as const"
   ]
  },
  {
   "cell_type": "code",
   "execution_count": 2,
   "metadata": {},
   "outputs": [
    {
     "name": "stdout",
     "output_type": "stream",
     "text": [
      "[[0. 0.]\n",
      " [0. 0.]\n",
      " [0. 0.]\n",
      " [0. 0.]\n",
      " [0. 0.]\n",
      " [0. 0.]\n",
      " [0. 0.]\n",
      " [0. 0.]\n",
      " [0. 0.]\n",
      " [0. 0.]]\n",
      "(10, 2)\n",
      "[[24.47595446  0.        ]\n",
      " [27.87490516  0.        ]\n",
      " [16.44124213  0.        ]\n",
      " [31.55777241  0.        ]\n",
      " [20.99293269  0.        ]\n",
      " [29.42954913  0.        ]\n",
      " [28.22325605  0.        ]\n",
      " [14.97054682  0.        ]\n",
      " [49.46342272  0.        ]\n",
      " [ 3.2018012   0.        ]]\n",
      "[[24.47595446 23.72112085]\n",
      " [27.87490516  4.59129869]\n",
      " [16.44124213  1.23730623]\n",
      " [31.55777241 37.70400803]\n",
      " [20.99293269 36.73949392]\n",
      " [29.42954913 43.63574125]\n",
      " [28.22325605  4.84461051]\n",
      " [14.97054682 17.69937509]\n",
      " [49.46342272 13.36990542]\n",
      " [ 3.2018012  14.16281388]]\n",
      "None\n"
     ]
    }
   ],
   "source": [
    "N=10\n",
    "x=Particles(N)\n",
    "print(x.pos)"
   ]
  },
  {
   "cell_type": "code",
   "execution_count": 9,
   "metadata": {},
   "outputs": [
    {
     "name": "stdout",
     "output_type": "stream",
     "text": [
      "4.65126013499e-26\n"
     ]
    }
   ],
   "source": [
    "air_mass=const.physical_constants['alpha particle mass'][0]*7\n",
    "print(air_mass)"
   ]
  },
  {
   "cell_type": "code",
   "execution_count": 75,
   "metadata": {},
   "outputs": [
    {
     "ename": "ValueError",
     "evalue": "could not broadcast input array from shape (10000,10000) into shape (10000,)",
     "output_type": "error",
     "traceback": [
      "\u001b[1;31m---------------------------------------------------------------------------\u001b[0m",
      "\u001b[1;31mValueError\u001b[0m                                Traceback (most recent call last)",
      "Cell \u001b[1;32mIn[75], line 21\u001b[0m\n\u001b[0;32m     18\u001b[0m mass \u001b[38;5;241m=\u001b[39m \u001b[38;5;241m4\u001b[39m \u001b[38;5;241m*\u001b[39m \u001b[38;5;241m1.66054e-27\u001b[39m  \u001b[38;5;66;03m# Alpha粒子的質量 (kg)，假設為4個中子和質子的總質量\u001b[39;00m\n\u001b[0;32m     20\u001b[0m \u001b[38;5;66;03m# 生成初始速度向量\u001b[39;00m\n\u001b[1;32m---> 21\u001b[0m initial_velocities_2d \u001b[38;5;241m=\u001b[39m \u001b[43mgenerate_initial_velocities_2d\u001b[49m\u001b[43m(\u001b[49m\u001b[43mN_particles\u001b[49m\u001b[43m,\u001b[49m\u001b[43m \u001b[49m\u001b[43mtemperature\u001b[49m\u001b[43m,\u001b[49m\u001b[43m \u001b[49m\u001b[43mmass\u001b[49m\u001b[43m)\u001b[49m\n\u001b[0;32m     23\u001b[0m \u001b[38;5;66;03m# 計算速度大小\u001b[39;00m\n\u001b[0;32m     24\u001b[0m \u001b[38;5;66;03m#speeds_magnitude=np.sqrt(initial_velocities_2d[:,0]**2+initial_velocities_2d[:,1]**2)\u001b[39;00m\n\u001b[0;32m     25\u001b[0m speeds_magnitude \u001b[38;5;241m=\u001b[39m np\u001b[38;5;241m.\u001b[39mlinalg\u001b[38;5;241m.\u001b[39mnorm(initial_velocities_2d, axis\u001b[38;5;241m=\u001b[39m\u001b[38;5;241m1\u001b[39m)\n",
      "Cell \u001b[1;32mIn[75], line 10\u001b[0m, in \u001b[0;36mgenerate_initial_velocities_2d\u001b[1;34m(N, temperature, mass)\u001b[0m\n\u001b[0;32m      8\u001b[0m vel \u001b[38;5;241m=\u001b[39m maxwell\u001b[38;5;241m.\u001b[39mrvs(scale\u001b[38;5;241m=\u001b[39mnp\u001b[38;5;241m.\u001b[39msqrt(k\u001b[38;5;241m*\u001b[39mtemperature \u001b[38;5;241m/\u001b[39m mass), size\u001b[38;5;241m=\u001b[39m(N, \u001b[38;5;241m1\u001b[39m))\n\u001b[0;32m      9\u001b[0m theta \u001b[38;5;241m=\u001b[39m np\u001b[38;5;241m.\u001b[39mrandom\u001b[38;5;241m.\u001b[39muniform(\u001b[38;5;241m0\u001b[39m, \u001b[38;5;241m2\u001b[39m\u001b[38;5;241m*\u001b[39mnp\u001b[38;5;241m.\u001b[39mpi, N) \u001b[38;5;66;03m#random angle\u001b[39;00m\n\u001b[1;32m---> 10\u001b[0m speeds[:,\u001b[38;5;241m0\u001b[39m] \u001b[38;5;241m=\u001b[39m vel[:]\u001b[38;5;241m*\u001b[39mnp\u001b[38;5;241m.\u001b[39mcos(theta)\n\u001b[0;32m     11\u001b[0m speeds[:,\u001b[38;5;241m1\u001b[39m] \u001b[38;5;241m=\u001b[39m vel[:]\u001b[38;5;241m*\u001b[39mnp\u001b[38;5;241m.\u001b[39msin(theta)\n\u001b[0;32m     12\u001b[0m \u001b[38;5;28;01mreturn\u001b[39;00m speeds\n",
      "\u001b[1;31mValueError\u001b[0m: could not broadcast input array from shape (10000,10000) into shape (10000,)"
     ]
    }
   ],
   "source": [
    "import numpy as np\n",
    "import matplotlib.pyplot as plt\n",
    "from scipy.stats import maxwell\n",
    "import gc\n",
    "\n",
    "def generate_initial_velocities_2d(N, temperature, mass):\n",
    "    # 使用 maxwell.rvs() 生成速度向量\n",
    "    speeds = np.zeros((N, 2))\n",
    "    vel = maxwell.rvs(scale=np.sqrt(k*temperature / mass), size=(N, 1))\n",
    "    theta = np.random.uniform(0, 2*np.pi, N) #random angle\n",
    "    speeds[:,0] = vel[:]*np.cos(theta)\n",
    "    speeds[:,1] = vel[:]*np.sin(theta)\n",
    "    return speeds\n",
    "gc.collect()\n",
    "# 參數設定\n",
    "k=const.Boltzmann\n",
    "N_particles = 10000 # 粒子數量\n",
    "temperature = 300  # 溫度 (K)\n",
    "mass = 4 * 1.66054e-27  # Alpha粒子的質量 (kg)，假設為4個中子和質子的總質量\n",
    "\n",
    "# 生成初始速度向量\n",
    "initial_velocities_2d = generate_initial_velocities_2d(N_particles, temperature, mass)\n",
    "\n",
    "# 計算速度大小\n",
    "#speeds_magnitude=np.sqrt(initial_velocities_2d[:,0]**2+initial_velocities_2d[:,1]**2)\n",
    "speeds_magnitude = np.linalg.norm(initial_velocities_2d, axis=1)\n",
    "\n",
    "# 繪製速度大小與對應數量的關係圖\n",
    "plt.hist(speeds_magnitude, bins=50, alpha=0.6, color='g', density=True, label='Simulation')\n",
    "\n",
    "# 計算理論上的波茲曼速度分布\n",
    "speeds_range = np.linspace(0, np.max(speeds_magnitude), 100)\n",
    "theory_distribution = maxwell.pdf(speeds_range, scale=np.sqrt(k*temperature / mass))\n",
    "plt.plot(speeds_range, theory_distribution, 'r--', label='Theory')\n",
    "\n",
    "plt.title('Speed Distribution')\n",
    "plt.xlabel('Speed (m/s)')\n",
    "plt.ylabel('Probability Density')\n",
    "plt.legend()\n",
    "plt.show()\n"
   ]
  },
  {
   "cell_type": "code",
   "execution_count": 11,
   "metadata": {},
   "outputs": [
    {
     "data": {
      "image/png": "[encoded data removed]",
      "text/plain": [
       "<Figure size 640x480 with 1 Axes>"
      ]
     },
     "metadata": {},
     "output_type": "display_data"
    }
   ],
   "source": [
    "import numpy as np\n",
    "import matplotlib.pyplot as plt\n",
    "from scipy.stats import maxwell\n",
    "\n",
    "def generate_initial_velocities_2d(N, temperature, mass):\n",
    "    # 使用 maxwell.rvs() 生成速度向量\n",
    "    speeds = maxwell.rvs(scale=np.sqrt(temperature / mass), size=(N, 2))\n",
    "    return speeds\n",
    "\n",
    "# 參數設定\n",
    "N_particles = 1000  # 粒子數量\n",
    "temperature = 300  # 溫度 (K)\n",
    "mass = 4 * 1.66054e-27  # Alpha粒子的質量 (kg)，假設為4個中子和質子的總質量\n",
    "\n",
    "# 生成初始速度向量\n",
    "initial_velocities_2d = generate_initial_velocities_2d(N_particles, temperature, mass)\n",
    "\n",
    "# 計算速度大小\n",
    "speeds_magnitude = np.linalg.norm(initial_velocities_2d, axis=1)\n",
    "\n",
    "# 繪製速度大小與對應數量的關係圖\n",
    "plt.hist(speeds_magnitude, bins=50, alpha=0.6, color='g')\n",
    "plt.title('Speed Distribution')\n",
    "plt.xlabel('Speed (m/s)')\n",
    "plt.ylabel('Number of Particles')\n",
    "plt.show()\n"
   ]
  }
 ],
 "metadata": {
  "kernelspec": {
   "display_name": "comphys",
   "language": "python",
   "name": "python3"
  },
  "language_info": {
   "codemirror_mode": {
    "name": "ipython",
    "version": 3
   },
   "file_extension": ".py",
   "mimetype": "text/x-python",
   "name": "python",
   "nbconvert_exporter": "python",
   "pygments_lexer": "ipython3",
   "version": "3.10.13"
  }
 },
 "nbformat": 4,
 "nbformat_minor": 2
}
